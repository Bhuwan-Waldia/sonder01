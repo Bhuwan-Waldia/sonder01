{
 "cells": [
  {
   "cell_type": "markdown",
   "id": "forbidden-exception",
   "metadata": {},
   "source": [
    "## Data Science"
   ]
  },
  {
   "cell_type": "code",
   "execution_count": null,
   "id": "scenic-crash",
   "metadata": {},
   "outputs": [],
   "source": [
    "It is a process of extracting meaningful insights from data by using scientific methods"
   ]
  },
  {
   "cell_type": "markdown",
   "id": "crazy-focus",
   "metadata": {},
   "source": [
    "### scientific methods"
   ]
  },
  {
   "cell_type": "code",
   "execution_count": null,
   "id": "digital-simple",
   "metadata": {},
   "outputs": [],
   "source": [
    "1. Machine Learning\n",
    "2. Deep Learning\n",
    "3. Natural Language Processing\n",
    "4. Statistics\n",
    "5. Visualization Tool(Matplotlib, Seaborn, Plotly)"
   ]
  },
  {
   "cell_type": "markdown",
   "id": "contrary-content",
   "metadata": {},
   "source": [
    "### Data"
   ]
  },
  {
   "cell_type": "code",
   "execution_count": null,
   "id": "engaging-modern",
   "metadata": {},
   "outputs": [],
   "source": [
    "Structured : CSV, Excel \n",
    "\n",
    "Semi Structured : JSON, HTML\n",
    "\n",
    "Unstructured: Images, Videos, Text\n",
    "\n",
    "1. Csv\n",
    "2. Excel\n",
    "3. JSON\n",
    "4. Images\n",
    "5. Videos\n",
    "6. DataBase\n",
    "7. Text\n",
    "8. Audio"
   ]
  },
  {
   "cell_type": "markdown",
   "id": "serial-aquarium",
   "metadata": {},
   "source": [
    "### Real World Applications"
   ]
  },
  {
   "cell_type": "code",
   "execution_count": null,
   "id": "dressed-restaurant",
   "metadata": {},
   "outputs": [],
   "source": [
    "1. Chatbot\n",
    "2. Digitization:\n",
    "    OCR:\n",
    "        Pytesseract\n",
    "        Google Vision\n",
    "        Amazon Textract\n",
    "        Easy OCR\n",
    "        \n",
    "3. Face Recognition:(Video Kyc)\n",
    "    Google Photos\n",
    "    Facebook\n",
    "    Phone Unlock\n",
    "4. Car Price Predictiion\n",
    "5. Weather Prediction\n",
    "6. House Price \n",
    "7. Google Maps\n",
    "8. Speech Recognition:\n",
    "    Google Voice assistent\n",
    "    siri\n",
    "    alexa\n",
    "    \n",
    "9. Sentiment Analysis:(Good or Bad)\n",
    "10. Customer Analysis\n",
    "11. Robotics\n",
    "12. Self Driving Car\n",
    "13. Recommendation System(YouTube, HotStar, Flipkart, Prime, Netflix,etc)\n"
   ]
  },
  {
   "cell_type": "markdown",
   "id": "prime-value",
   "metadata": {},
   "source": [
    "## Types of Machine Learning"
   ]
  },
  {
   "cell_type": "code",
   "execution_count": null,
   "id": "detailed-pressure",
   "metadata": {},
   "outputs": [],
   "source": [
    "1. Supervised ML\n",
    "2. Unsupervised ML\n",
    "3. Reinforcement ML"
   ]
  },
  {
   "cell_type": "markdown",
   "id": "eleven-steel",
   "metadata": {},
   "source": [
    "### Supervised ML"
   ]
  },
  {
   "cell_type": "code",
   "execution_count": null,
   "id": "ideal-hotel",
   "metadata": {},
   "outputs": [],
   "source": [
    "If the data is labelled(Independent and Dependent)\n",
    "\n",
    "Variables:\n",
    "    1. Independent Variables(Input, Predictors, Features,Parameters)\n",
    "    2. Dependent Variable(Target, Output)\n",
    "    \n",
    "1. Classification: (Categorical Data in Target Column)\n",
    "        1. Binary Classification:\n",
    "            Approved-Declined\n",
    "            1-0\n",
    "            Yes-No\n",
    "            Pos-Neg\n",
    "            Good-Bag\n",
    "            Spam-Not Spam\n",
    "\n",
    "        2. MultiClass Classification:\n",
    "            High-Medium-Low\n",
    "            Class0-Class1-Class2\n",
    "            Ratings from 1 to 5\n",
    "\n",
    "2. Regression:(Continuous Values in Target Column):\n",
    "        1. Car Price\n",
    "        2. House Price\n",
    "        3. Insurence Amount\n",
    "        4. Stock Price\n",
    "        \n",
    "        10000 rows\n",
    "        80% Model Training(8000) >> 95%\n",
    "        20% Model Testing(2000) >> 95%\n",
    "        \n",
    "        \n",
    "Approved >> A\n",
    "Approved >> D\n",
    "Declined >> A\n",
    "Approved >> A\n",
    "Approved >> A\n",
    "\n",
    "60%"
   ]
  }
 ],
 "metadata": {
  "kernelspec": {
   "display_name": "Python 3",
   "language": "python",
   "name": "python3"
  },
  "language_info": {
   "codemirror_mode": {
    "name": "ipython",
    "version": 3
   },
   "file_extension": ".py",
   "mimetype": "text/x-python",
   "name": "python",
   "nbconvert_exporter": "python",
   "pygments_lexer": "ipython3",
   "version": "3.8.7"
  }
 },
 "nbformat": 4,
 "nbformat_minor": 5
}
